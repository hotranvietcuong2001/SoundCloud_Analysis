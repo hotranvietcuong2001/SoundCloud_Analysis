{
 "cells": [
  {
   "cell_type": "markdown",
   "metadata": {},
   "source": [
    "## Thu thập dữ liệu bằng parse HTML - User_data\n",
    "- Họ tên: Hồ Trần Việt Cường\n",
    "- MSSV: "
   ]
  },
  {
   "cell_type": "markdown",
   "metadata": {},
   "source": [
    "## Môi trường code\n",
    "Dùng phiên bản các package như trong file \"min_ds-env.yml\""
   ]
  },
  {
   "cell_type": "markdown",
   "metadata": {},
   "source": [
    "***\n",
    "## Import"
   ]
  },
  {
   "cell_type": "code",
   "execution_count": 1,
   "metadata": {},
   "outputs": [
    {
     "ename": "ModuleNotFoundError",
     "evalue": "No module named 'requests_html'",
     "output_type": "error",
     "traceback": [
      "\u001b[1;31m---------------------------------------------------------------------------\u001b[0m",
      "\u001b[1;31mModuleNotFoundError\u001b[0m                       Traceback (most recent call last)",
      "\u001b[1;32m~\\AppData\\Local\\Temp/ipykernel_19092/319005138.py\u001b[0m in \u001b[0;36m<module>\u001b[1;34m\u001b[0m\n\u001b[0;32m      2\u001b[0m \u001b[1;32mimport\u001b[0m \u001b[0murllib\u001b[0m\u001b[1;33m.\u001b[0m\u001b[0mrobotparser\u001b[0m \u001b[1;31m# Kiểm tra file robot.txt có được phép crawl không\u001b[0m\u001b[1;33m\u001b[0m\u001b[1;33m\u001b[0m\u001b[0m\n\u001b[0;32m      3\u001b[0m \u001b[1;32mimport\u001b[0m \u001b[0mtime\u001b[0m\u001b[1;33m\u001b[0m\u001b[1;33m\u001b[0m\u001b[0m\n\u001b[1;32m----> 4\u001b[1;33m \u001b[1;32mfrom\u001b[0m \u001b[0mrequests_html\u001b[0m \u001b[1;32mimport\u001b[0m \u001b[0mHTMLSession\u001b[0m\u001b[1;33m\u001b[0m\u001b[1;33m\u001b[0m\u001b[0m\n\u001b[0m",
      "\u001b[1;31mModuleNotFoundError\u001b[0m: No module named 'requests_html'"
     ]
    }
   ],
   "source": [
    "import pandas as pd\n",
    "import urllib.robotparser # Kiểm tra file robot.txt có được phép crawl không\n",
    "import time\n",
    "from requests_html import HTMLSession"
   ]
  },
  {
   "cell_type": "markdown",
   "metadata": {},
   "source": [
    "***\n",
    "## Setup ở mức toàn cục"
   ]
  },
  {
   "cell_type": "markdown",
   "metadata": {},
   "source": [
    "Đầu tiên, chúng ta sẽ setup các biến toàn cục:\n",
    "- Do số lượng request trong 1 phút bị giới hạn , vì vậy chúng ta cho chương trình sleep rồi requests lại. Biến `sleep_time` toàn cục để qui định số giây mà chương trình sẽ sleep (trong bài này cho 1 giây).\n",
    "- Một `session` bắt đầu khi client gửi request đến server, nó tồn tại xuyên suốt từ trang này đến trang khác trong ứng dụng web và chỉ kết thúc khi hết thời gian timeout hoặc khi bạn đóng ứng dụng, vì vậy ta khai báo biến toàn cục session."
   ]
  },
  {
   "cell_type": "code",
   "execution_count": null,
   "metadata": {},
   "outputs": [],
   "source": [
    "sleep_time = 1\n",
    "session = HTMLSession()"
   ]
  },
  {
   "cell_type": "code",
   "execution_count": null,
   "metadata": {},
   "outputs": [],
   "source": [
    "def change_x(x):\n",
    "    x = x + 1\n",
    "x = 1\n",
    "y = change_x(x)\n",
    "print(x)\n",
    "print(y)"
   ]
  },
  {
   "cell_type": "markdown",
   "metadata": {},
   "source": [
    "Công việc trong phần này là viết hàm `collect_user` ở bên dưới. Hàm này dùng để thu thập dữ liệu của user trên Soundcloud:\n",
    "- url: link dẫn tới user\n",
    "- user_id: id của user\n",
    "- username: tên hiển thị của user\n",
    "- first_name: first name của user\n",
    "- last_name: last name của user\n",
    "- full_name: tên đầy đủ của user\n",
    "- date_created: ngày tạo user\n",
    "- last_modified: ngày thay đổi thông tin user cuối cùng\n",
    "- description: Thông tin giới thiệu (bio) của user\n",
    "- city: thành phố của user\n",
    "- country_code: quốc gia của user\n",
    "- followers_count: số lượng người theo dõi user\n",
    "- followings_count: số người user theo dõi\n",
    "- likes_count: lượt like trên soundcloud được thực hiện bởi user\n",
    "- playlist_count: số lương playlist của user\n",
    "- track_count: số lượng track của user\n",
    "- comments_count: số lượng comment được thực hiện bởi user\n",
    "- pro: user đã đăng ký gói pro chưa? (true/false)\n",
    "- pro_unlimited: user đã đăng ký gói pro_unlimited chưa? (true/false)\n",
    "- verified: tài khoản của user đã được xác thực? (true/false)"
   ]
  },
  {
   "cell_type": "code",
   "execution_count": null,
   "metadata": {},
   "outputs": [],
   "source": [
    "def collect_user(user_urls_file, users_file):\n",
    "    \n",
    "    # YOUR CODE HERE\n",
    "    #check file robots.txt\n",
    "    rp = urllib.robotparser.RobotFileParser()\n",
    "    rp.set_url(\"https://soundcloud.com/robots.txt\")\n",
    "    rp.read()\n",
    "    \n",
    "    with open(users_file, 'w', encoding = 'UTF8') as fo:\n",
    "        fo.write('url\\tuser_id\\tusername\\tfirst_name\\tlast_name\\tfull_name\\tdate_created\\tlast_modified\\tdescription\\tcity\\tcountry_code\\tfollowers_count\\tfollowings_count\\tlikes_count\\tplaylist_count\\ttrack_count\\tcomments_count\\tpro\\tpro_unlimited\\tverified\\n')\n",
    "    with open(user_urls_file, 'r') as fi:\n",
    "        for line in fi:\n",
    "            #xoa \\n o cuoi\n",
    "            url = line[:-1]\n",
    "            r = ''\n",
    "            if (rp.can_fetch(\"*\", url) == True): #duoc phep thu thap du lieu\n",
    "                r = session.get(url)\n",
    "                while r == '':\n",
    "                    try:\n",
    "                        r = session.get(url, timeout = 10)\n",
    "                    except session.exceptions.RequestException as e:\n",
    "                        time.sleep(10)\n",
    "                        continue\n",
    "                user_id = r.html.search_all('\"id\":{},')\n",
    "                if (len(user_id) > 2):\n",
    "                    user_id = user_id[2][0]\n",
    "                    username = r.html.search('\"username\":\"{}\"')[0]\n",
    "\n",
    "                    first_name = r.html.search('\"first_name\":\"{}\"')[0]\n",
    "                    if first_name == '\",':\n",
    "                        first_name = 'None'\n",
    "\n",
    "                    last_name = r.html.search('\"last_name\":\"{}\"')[0]\n",
    "                    if last_name == '\",':\n",
    "                        last_name = 'None'\n",
    "\n",
    "                    full_name = r.html.search('\"full_name\":\"{}\"')[0]\n",
    "                    if full_name == '\",':\n",
    "                        full_name = 'None'\n",
    "\n",
    "                    date_created = r.html.search('\"created_at\":\"{}\",')[0]\n",
    "\n",
    "                    description = r.html.search('\"description\":\"{}\",')\n",
    "                    if description == None or '\"followers_count\":' in description[0]:\n",
    "                        description = 'None'\n",
    "                    else:\n",
    "                        description = description[0]\n",
    "\n",
    "                    last_modified = r.html.search('\"last_modified\":\"{}\"')[0]\n",
    "\n",
    "                    city = r.html.search_all('\"city\":\"{}\",')\n",
    "                    if (len(city) <= 1) or '\"comments_count\":' in city[1][0]:\n",
    "                        city = 'None'\n",
    "                    else:\n",
    "                        city = city[1][0]\n",
    "\n",
    "                    country_code = r.html.search_all('\"country_code\":\"{}\",')\n",
    "                    if (len(country_code) > 1):\n",
    "                        country_code = country_code[1][0]\n",
    "                    else:\n",
    "                        country_code = 'None'\n",
    "\n",
    "                    followers_count = r.html.search('\"followers_count\":{},')[0]\n",
    "                    followings_count = r.html.search('\"followings_count\":{},')[0]\n",
    "                    likes_count = r.html.search('\"likes_count\":{},')[0]\n",
    "                    playlist_count = r.html.search('\"playlist_count\":{},')[0]\n",
    "                    track_count = r.html.search('\"track_count\":{},')[0]\n",
    "                    comments_count = r.html.search('\"comments_count\":{},')[0]\n",
    "                    pro = r.html.search('\"pro\":{},')[0]\n",
    "                    pro_unlimited = r.html.search('\"pro_unlimited\":{},')[0]\n",
    "                    verified = r.html.search('\"verified\":{},')[0]\n",
    "                else:\n",
    "                    user_id = username = first_name = last_name = full_name = date_created = last_modified = 'None'\n",
    "                    description = city = country_code = followers_count = followings_count = likes_count = 'None'\n",
    "                    playlist_likes_count = playlist_count = track_count = comments_count = pro = pro_unlimited = verified = 'None'\n",
    "                    \n",
    "                with open(users_file, 'a', encoding = 'UTF8') as fo:\n",
    "                    fo.write(url + '\\t' + user_id + '\\t' + username + '\\t' + first_name + '\\t' + last_name + '\\t' + \n",
    "                        full_name + '\\t' + date_created + '\\t' + last_modified + '\\t' + description + '\\t' + \n",
    "                        city + '\\t' + country_code + '\\t' + followers_count + '\\t' + followings_count + '\\t' + \n",
    "                        likes_count + '\\t' + playlist_count + '\\t' + track_count + '\\t' + \n",
    "                        comments_count + '\\t' + pro + '\\t' + pro_unlimited + '\\t' + verified + '\\n')\n",
    "\n",
    "                time.sleep(sleep_time)"
   ]
  },
  {
   "cell_type": "markdown",
   "metadata": {},
   "source": [
    "## Tiến hành crawl dữ liệu\n"
   ]
  },
  {
   "cell_type": "code",
   "execution_count": null,
   "metadata": {},
   "outputs": [],
   "source": [
    "collect_user('url.txt','user.csv')"
   ]
  },
  {
   "cell_type": "markdown",
   "metadata": {},
   "source": [
    "## Đọc dữ liệu từ file"
   ]
  },
  {
   "cell_type": "code",
   "execution_count": null,
   "metadata": {},
   "outputs": [],
   "source": [
    "courses = pd.read_csv('user.csv', sep='\\t')\n",
    "courses"
   ]
  }
 ],
 "metadata": {
  "interpreter": {
   "hash": "4523760acd2e98ea694316eb0cd84f0969f99d1a04363ebd38b8ee985ea4f03e"
  },
  "kernelspec": {
   "display_name": "Python 3 (ipykernel)",
   "language": "python",
   "name": "python3"
  },
  "language_info": {
   "codemirror_mode": {
    "name": "ipython",
    "version": 3
   },
   "file_extension": ".py",
   "mimetype": "text/x-python",
   "name": "python",
   "nbconvert_exporter": "python",
   "pygments_lexer": "ipython3",
   "version": "3.8.8"
  }
 },
 "nbformat": 4,
 "nbformat_minor": 2
}

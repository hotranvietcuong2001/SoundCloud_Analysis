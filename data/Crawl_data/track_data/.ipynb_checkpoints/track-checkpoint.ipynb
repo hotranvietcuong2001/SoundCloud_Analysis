{
 "cells": [
  {
   "cell_type": "markdown",
   "id": "0a2d7558",
   "metadata": {},
   "source": [
    "## Thu thập dữ liệu bằng parse HTML - Track_data\n",
    "- Họ tên:\n",
    "- MSSV:"
   ]
  },
  {
   "cell_type": "markdown",
   "id": "6ed779e9",
   "metadata": {},
   "source": [
    "## Môi trường code\n",
    "Dùng phiên bản các package như trong file \"min_ds-env.yml\"\n"
   ]
  },
  {
   "cell_type": "markdown",
   "id": "05ddf7d8",
   "metadata": {},
   "source": [
    "***\n",
    "## Import"
   ]
  },
  {
   "cell_type": "markdown",
   "id": "0558515a",
   "metadata": {},
   "source": [
    "`Selenium` là một trình duyệt cho phép chúng ta thực hiện các công việc tự động hóa ở trên đó. `Selenium` cho phép điều khiển và code trên trình duyệt. "
   ]
  },
  {
   "cell_type": "code",
   "execution_count": 1,
   "id": "95df2c18",
   "metadata": {},
   "outputs": [],
   "source": [
    "import requests\n",
    "import time\n",
    "import pandas as pd\n",
    "from selenium import webdriver\n",
    "from bs4 import BeautifulSoup\n",
    "from selenium.webdriver.common.by import By\n",
    "from selenium.webdriver.support.ui import WebDriverWait\n",
    "from selenium.webdriver.support import expected_conditions as EC\n",
    "from selenium.webdriver.chrome.service import Service\n",
    "s = Service('chromedriver.exe')"
   ]
  },
  {
   "cell_type": "markdown",
   "id": "bff57b51",
   "metadata": {},
   "source": [
    "Công việc trong phần này là viết hàm `collect_playlist` ở bên dưới. Hàm này dùng để thu thập dữ liệu của playlist trên Soundcloud. Hàm này dùng các input như sau:\n",
    " - tracks_urls_file: là chuỗi, cho biết tên của file txt chứa các đường link đến tất cả các playlist, mỗi đường link nằm trên một dòng.\n",
    " - tracks_file: là chuỗi , chúng ta sẽ viết danh sách các tracks vào file này. \n",
    " \n",
    "Chúng ta sẽ sử dụng các biến như sau :\n",
    " - urls_file: là danh sách link trong file playlist_urls_file.txt\n",
    " - num_of_records : số lượng records\n",
    " - url : link dẫn tới các users\n",
    " - driver: khởi tạo driver , chúng ta sẽ truyền vào đường dẫn file `chromedriver.exe` . Sẽ cần dowload bản [chromedriver.exe](https://chromedriver.chromium.org/downloads?fbclid=IwAR2J5mdJzt-p7RA28YebsAVB2-hrxhdY2PXfU8kYBKwoBCK-HtH-XDI8T_s) phù hợp với bản chrome mình đang sử dụng.\n",
    " - website: link dẫn tới các tracks (url + '/tracks')\n",
    " - user[]: tên người đăng tracks\n",
    " - title[]: tên của tracks\n",
    " - upload_time[]: khoảng thời gian đăng tracks (ago)\n",
    " - play_nums[]: số lượt xem của tracks\n",
    " - cmt_nums[]: số lượng bình luận của tracks\n",
    " - like[]: số lượng lượt thích của tracks\n",
    " - repost[]: số lượng phản hồi của tracks\n"
   ]
  },
  {
   "cell_type": "code",
   "execution_count": 4,
   "id": "6cdb1fd2",
   "metadata": {},
   "outputs": [],
   "source": [
    "def collect_playlist(tracks_urls_file , tracks_file)\n",
    "    urls_file = open('url.txt', \"r\")\n",
    "    user = []\n",
    "    title = []\n",
    "    upload_time = []\n",
    "    play_nums = []\n",
    "    cmt_nums = []\n",
    "    like = []\n",
    "    repost = []\n",
    "    for url in urls_file:\n",
    "        website = url + '/tracks'\n",
    "        driver = webdriver.Chrome('chromedriver.exe')\n",
    "        driver.get(website)\n",
    "        tracks = driver.find_elements(By.CLASS_NAME,\"soundList__item\")\n",
    "        for track in tracks:\n",
    "            user.append(track.find_element(By.CLASS_NAME,\"soundTitle__usernameText\").text)\n",
    "            title.append(track.find_element(By.CLASS_NAME,\"soundTitle__title\").text)\n",
    "            upload = track.find_element(By.CLASS_NAME,\"relativeTime\")\n",
    "            upload_time.append(upload.find_elements(By.TAG_NAME,\"span\")[-1].text)\n",
    "            play_cmt_nums=track.find_element(By.CLASS_NAME,\"soundStats\")\n",
    "            play_cmt_text = play_cmt_nums.text\n",
    "            if(play_cmt_text == ''):\n",
    "                play_nums.append(0)\n",
    "                cmt_nums.append(0)\n",
    "            else:\n",
    "                play_nums.append(play_cmt_nums.find_element(By.TAG_NAME,'li').get_attribute(\"title\"))\n",
    "                cmt_nums.append(play_cmt_nums.find_elements(By.TAG_NAME,'li')[-1].get_attribute(\"title\"))\n",
    "            like.append(track.find_element(By.CLASS_NAME,\"sc-button-like\").text)\n",
    "            rep = track.find_element(By.CLASS_NAME,\"sc-button-repost\").text.isalpha()\n",
    "            if(rep):\n",
    "                repost.append(0)\n",
    "            else:\n",
    "                repost.append(track.find_element(By.CLASS_NAME,\"sc-button-repost\").text)\n",
    "        df = pd.DataFrame({'title': title, 'user':user,'upload_time': upload_time,'number_of_play':play_nums, 'number of comment': cmt_nums, 'like': like, 'repost':repost})\n",
    "        df.to_csv('track_data.csv', index=False,sep=\"\\t\")\n",
    "        if(len(user) >= 1001):\n",
    "            break\n",
    "        try:\n",
    "            soundList__item = WebDriverWait(driver, 10).until(\n",
    "                EC.presence_of_element_located((By.CLASS_NAME, \"soundList__item\"))\n",
    "            )\n",
    "        except:\n",
    "            driver.quit()\n",
    "        finally:\n",
    "            driver.quit()\n",
    "        "
   ]
  },
  {
   "cell_type": "code",
   "execution_count": null,
   "id": "fb10da8c",
   "metadata": {},
   "outputs": [],
   "source": []
  }
 ],
 "metadata": {
  "kernelspec": {
   "display_name": "Python 3 (ipykernel)",
   "language": "python",
   "name": "python3"
  },
  "language_info": {
   "codemirror_mode": {
    "name": "ipython",
    "version": 3
   },
   "file_extension": ".py",
   "mimetype": "text/x-python",
   "name": "python",
   "nbconvert_exporter": "python",
   "pygments_lexer": "ipython3",
   "version": "3.8.8"
  }
 },
 "nbformat": 4,
 "nbformat_minor": 5
}
